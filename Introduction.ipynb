{
 "cells": [
  {
   "cell_type": "code",
   "execution_count": 1,
   "id": "4f7b9c70",
   "metadata": {},
   "outputs": [
    {
     "data": {
      "text/plain": [
       "4"
      ]
     },
     "execution_count": 1,
     "metadata": {},
     "output_type": "execute_result"
    }
   ],
   "source": [
    "2+2"
   ]
  },
  {
   "cell_type": "code",
   "execution_count": 2,
   "id": "fa916eb9",
   "metadata": {},
   "outputs": [
    {
     "data": {
      "text/plain": [
       "0"
      ]
     },
     "execution_count": 2,
     "metadata": {},
     "output_type": "execute_result"
    }
   ],
   "source": [
    "50%5"
   ]
  },
  {
   "cell_type": "code",
   "execution_count": 3,
   "id": "6db2215e",
   "metadata": {},
   "outputs": [
    {
     "data": {
      "text/plain": [
       "2"
      ]
     },
     "execution_count": 3,
     "metadata": {},
     "output_type": "execute_result"
    }
   ],
   "source": [
    "50%4"
   ]
  },
  {
   "cell_type": "code",
   "execution_count": 4,
   "id": "3bdd865f",
   "metadata": {},
   "outputs": [
    {
     "data": {
      "text/plain": [
       "1"
      ]
     },
     "execution_count": 4,
     "metadata": {},
     "output_type": "execute_result"
    }
   ],
   "source": [
    "2^3"
   ]
  },
  {
   "cell_type": "code",
   "execution_count": 5,
   "id": "d4e24ff9",
   "metadata": {},
   "outputs": [
    {
     "data": {
      "text/plain": [
       "8"
      ]
     },
     "execution_count": 5,
     "metadata": {},
     "output_type": "execute_result"
    }
   ],
   "source": [
    "2**3"
   ]
  },
  {
   "cell_type": "code",
   "execution_count": 6,
   "id": "a4dac70b",
   "metadata": {},
   "outputs": [],
   "source": [
    "a=10"
   ]
  },
  {
   "cell_type": "code",
   "execution_count": 7,
   "id": "0552184f",
   "metadata": {},
   "outputs": [
    {
     "data": {
      "text/plain": [
       "12"
      ]
     },
     "execution_count": 7,
     "metadata": {},
     "output_type": "execute_result"
    }
   ],
   "source": [
    "a+2"
   ]
  },
  {
   "cell_type": "code",
   "execution_count": 8,
   "id": "a04db14f",
   "metadata": {},
   "outputs": [
    {
     "ename": "SyntaxError",
     "evalue": "invalid syntax (1277751513.py, line 1)",
     "output_type": "error",
     "traceback": [
      "\u001b[1;36m  File \u001b[1;32m\"C:\\Users\\toepo\\AppData\\Local\\Temp\\ipykernel_15684\\1277751513.py\"\u001b[1;36m, line \u001b[1;32m1\u001b[0m\n\u001b[1;33m    a++\u001b[0m\n\u001b[1;37m       ^\u001b[0m\n\u001b[1;31mSyntaxError\u001b[0m\u001b[1;31m:\u001b[0m invalid syntax\n"
     ]
    }
   ],
   "source": [
    "a++"
   ]
  },
  {
   "cell_type": "code",
   "execution_count": 9,
   "id": "5a33c0f8",
   "metadata": {},
   "outputs": [
    {
     "data": {
      "text/plain": [
       "int"
      ]
     },
     "execution_count": 9,
     "metadata": {},
     "output_type": "execute_result"
    }
   ],
   "source": [
    "type(a)"
   ]
  },
  {
   "cell_type": "code",
   "execution_count": 10,
   "id": "6e31d771",
   "metadata": {},
   "outputs": [],
   "source": [
    "a=30.1"
   ]
  },
  {
   "cell_type": "code",
   "execution_count": 11,
   "id": "93315a63",
   "metadata": {},
   "outputs": [
    {
     "data": {
      "text/plain": [
       "float"
      ]
     },
     "execution_count": 11,
     "metadata": {},
     "output_type": "execute_result"
    }
   ],
   "source": [
    "type(a)"
   ]
  },
  {
   "cell_type": "code",
   "execution_count": 12,
   "id": "dda9fc7e",
   "metadata": {},
   "outputs": [],
   "source": [
    "my_income = 1000"
   ]
  },
  {
   "cell_type": "code",
   "execution_count": 13,
   "id": "17d9174c",
   "metadata": {},
   "outputs": [
    {
     "ename": "SyntaxError",
     "evalue": "cannot assign to operator (3889951446.py, line 1)",
     "output_type": "error",
     "traceback": [
      "\u001b[1;36m  File \u001b[1;32m\"C:\\Users\\toepo\\AppData\\Local\\Temp\\ipykernel_15684\\3889951446.py\"\u001b[1;36m, line \u001b[1;32m1\u001b[0m\n\u001b[1;33m    my-tax = 0.1\u001b[0m\n\u001b[1;37m    ^\u001b[0m\n\u001b[1;31mSyntaxError\u001b[0m\u001b[1;31m:\u001b[0m cannot assign to operator\n"
     ]
    }
   ],
   "source": [
    "my-tax = 0.1"
   ]
  },
  {
   "cell_type": "code",
   "execution_count": 14,
   "id": "5c7f483b",
   "metadata": {},
   "outputs": [],
   "source": [
    "my_tax=0.1"
   ]
  },
  {
   "cell_type": "code",
   "execution_count": 15,
   "id": "4c6ca64b",
   "metadata": {},
   "outputs": [],
   "source": [
    "i_owe = my_tax*my_income"
   ]
  },
  {
   "cell_type": "code",
   "execution_count": 16,
   "id": "c74f637e",
   "metadata": {},
   "outputs": [
    {
     "data": {
      "text/plain": [
       "100.0"
      ]
     },
     "execution_count": 16,
     "metadata": {},
     "output_type": "execute_result"
    }
   ],
   "source": [
    "i_owe"
   ]
  },
  {
   "cell_type": "code",
   "execution_count": 17,
   "id": "5c366f5c",
   "metadata": {},
   "outputs": [],
   "source": [
    "str = \"hello world\""
   ]
  },
  {
   "cell_type": "code",
   "execution_count": 18,
   "id": "fa2f3535",
   "metadata": {},
   "outputs": [
    {
     "data": {
      "text/plain": [
       "'h'"
      ]
     },
     "execution_count": 18,
     "metadata": {},
     "output_type": "execute_result"
    }
   ],
   "source": [
    "str[0]"
   ]
  },
  {
   "cell_type": "code",
   "execution_count": 19,
   "id": "1fe072d5",
   "metadata": {},
   "outputs": [
    {
     "data": {
      "text/plain": [
       "'d'"
      ]
     },
     "execution_count": 19,
     "metadata": {},
     "output_type": "execute_result"
    }
   ],
   "source": [
    "str[-1]"
   ]
  },
  {
   "cell_type": "code",
   "execution_count": 20,
   "id": "5eb4951c",
   "metadata": {},
   "outputs": [
    {
     "data": {
      "text/plain": [
       "'l'"
      ]
     },
     "execution_count": 20,
     "metadata": {},
     "output_type": "execute_result"
    }
   ],
   "source": [
    "str[-2]"
   ]
  },
  {
   "cell_type": "code",
   "execution_count": 21,
   "id": "b4f9be12",
   "metadata": {},
   "outputs": [
    {
     "data": {
      "text/plain": [
       "'r'"
      ]
     },
     "execution_count": 21,
     "metadata": {},
     "output_type": "execute_result"
    }
   ],
   "source": [
    "str[-3]"
   ]
  },
  {
   "cell_type": "code",
   "execution_count": 22,
   "id": "dbfd8f77",
   "metadata": {},
   "outputs": [
    {
     "data": {
      "text/plain": [
       "'e'"
      ]
     },
     "execution_count": 22,
     "metadata": {},
     "output_type": "execute_result"
    }
   ],
   "source": [
    "str[1]"
   ]
  },
  {
   "cell_type": "code",
   "execution_count": 23,
   "id": "b99e29e9",
   "metadata": {},
   "outputs": [
    {
     "data": {
      "text/plain": [
       "'hello world'"
      ]
     },
     "execution_count": 23,
     "metadata": {},
     "output_type": "execute_result"
    }
   ],
   "source": [
    "str"
   ]
  },
  {
   "cell_type": "code",
   "execution_count": 24,
   "id": "cc9d8cde",
   "metadata": {},
   "outputs": [],
   "source": [
    "str = \"abcdefgh\""
   ]
  },
  {
   "cell_type": "code",
   "execution_count": 25,
   "id": "3f090f63",
   "metadata": {},
   "outputs": [
    {
     "data": {
      "text/plain": [
       "'ab'"
      ]
     },
     "execution_count": 25,
     "metadata": {},
     "output_type": "execute_result"
    }
   ],
   "source": [
    "str[0:2]"
   ]
  },
  {
   "cell_type": "code",
   "execution_count": 26,
   "id": "87b2174b",
   "metadata": {},
   "outputs": [
    {
     "data": {
      "text/plain": [
       "'bc'"
      ]
     },
     "execution_count": 26,
     "metadata": {},
     "output_type": "execute_result"
    }
   ],
   "source": [
    "str[1:3]"
   ]
  },
  {
   "cell_type": "code",
   "execution_count": 28,
   "id": "41ec5a59",
   "metadata": {},
   "outputs": [
    {
     "data": {
      "text/plain": [
       "'abc'"
      ]
     },
     "execution_count": 28,
     "metadata": {},
     "output_type": "execute_result"
    }
   ],
   "source": [
    "str[:3]"
   ]
  },
  {
   "cell_type": "code",
   "execution_count": 29,
   "id": "ec443349",
   "metadata": {},
   "outputs": [
    {
     "data": {
      "text/plain": [
       "'defgh'"
      ]
     },
     "execution_count": 29,
     "metadata": {},
     "output_type": "execute_result"
    }
   ],
   "source": [
    "str[3:]"
   ]
  },
  {
   "cell_type": "code",
   "execution_count": 30,
   "id": "dd05fb4f",
   "metadata": {},
   "outputs": [],
   "source": [
    "mystr=\"abcdefgh\""
   ]
  },
  {
   "cell_type": "code",
   "execution_count": 31,
   "id": "91250f43",
   "metadata": {},
   "outputs": [
    {
     "data": {
      "text/plain": [
       "'abcdefgh'"
      ]
     },
     "execution_count": 31,
     "metadata": {},
     "output_type": "execute_result"
    }
   ],
   "source": [
    "mystr"
   ]
  },
  {
   "cell_type": "code",
   "execution_count": 32,
   "id": "cffeaa46",
   "metadata": {},
   "outputs": [
    {
     "data": {
      "text/plain": [
       "'bc'"
      ]
     },
     "execution_count": 32,
     "metadata": {},
     "output_type": "execute_result"
    }
   ],
   "source": [
    "mystr[1:3]"
   ]
  },
  {
   "cell_type": "code",
   "execution_count": 33,
   "id": "11923ab4",
   "metadata": {},
   "outputs": [
    {
     "data": {
      "text/plain": [
       "'abcdefgh'"
      ]
     },
     "execution_count": 33,
     "metadata": {},
     "output_type": "execute_result"
    }
   ],
   "source": [
    "mystr[::]"
   ]
  },
  {
   "cell_type": "code",
   "execution_count": 34,
   "id": "48b85a4f",
   "metadata": {},
   "outputs": [
    {
     "data": {
      "text/plain": [
       "'ab'"
      ]
     },
     "execution_count": 34,
     "metadata": {},
     "output_type": "execute_result"
    }
   ],
   "source": [
    "mystr[:2:]"
   ]
  },
  {
   "cell_type": "code",
   "execution_count": 35,
   "id": "267e17da",
   "metadata": {},
   "outputs": [
    {
     "data": {
      "text/plain": [
       "'aceg'"
      ]
     },
     "execution_count": 35,
     "metadata": {},
     "output_type": "execute_result"
    }
   ],
   "source": [
    "mystr[::2]"
   ]
  },
  {
   "cell_type": "code",
   "execution_count": 36,
   "id": "aadb38a3",
   "metadata": {},
   "outputs": [
    {
     "data": {
      "text/plain": [
       "'hgfedcba'"
      ]
     },
     "execution_count": 36,
     "metadata": {},
     "output_type": "execute_result"
    }
   ],
   "source": [
    "mystr[::-1]"
   ]
  },
  {
   "cell_type": "code",
   "execution_count": 37,
   "id": "f54e2b2c",
   "metadata": {},
   "outputs": [
    {
     "data": {
      "text/plain": [
       "'aceg'"
      ]
     },
     "execution_count": 37,
     "metadata": {},
     "output_type": "execute_result"
    }
   ],
   "source": [
    "mystr[::2]"
   ]
  },
  {
   "cell_type": "code",
   "execution_count": 38,
   "id": "b670ccb1",
   "metadata": {},
   "outputs": [
    {
     "data": {
      "text/plain": [
       "'r'"
      ]
     },
     "execution_count": 38,
     "metadata": {},
     "output_type": "execute_result"
    }
   ],
   "source": [
    "\"hello world\"[-3]"
   ]
  },
  {
   "cell_type": "code",
   "execution_count": 39,
   "id": "0b1b4dc3",
   "metadata": {},
   "outputs": [],
   "source": [
    "name = \"Sam\""
   ]
  },
  {
   "cell_type": "code",
   "execution_count": 40,
   "id": "8845183c",
   "metadata": {},
   "outputs": [
    {
     "ename": "TypeError",
     "evalue": "'str' object does not support item assignment",
     "output_type": "error",
     "traceback": [
      "\u001b[1;31m---------------------------------------------------------------------------\u001b[0m",
      "\u001b[1;31mTypeError\u001b[0m                                 Traceback (most recent call last)",
      "\u001b[1;32m~\\AppData\\Local\\Temp\\ipykernel_15684\\216813818.py\u001b[0m in \u001b[0;36m<module>\u001b[1;34m\u001b[0m\n\u001b[1;32m----> 1\u001b[1;33m \u001b[0mname\u001b[0m\u001b[1;33m[\u001b[0m\u001b[1;36m0\u001b[0m\u001b[1;33m]\u001b[0m\u001b[1;33m=\u001b[0m\u001b[1;34m\"P\"\u001b[0m\u001b[1;33m\u001b[0m\u001b[1;33m\u001b[0m\u001b[0m\n\u001b[0m",
      "\u001b[1;31mTypeError\u001b[0m: 'str' object does not support item assignment"
     ]
    }
   ],
   "source": [
    "name[0]=\"P\""
   ]
  },
  {
   "cell_type": "code",
   "execution_count": 41,
   "id": "71deb450",
   "metadata": {},
   "outputs": [],
   "source": [
    "last_letters = name[1:]"
   ]
  },
  {
   "cell_type": "code",
   "execution_count": 42,
   "id": "09a462d1",
   "metadata": {},
   "outputs": [
    {
     "data": {
      "text/plain": [
       "'am'"
      ]
     },
     "execution_count": 42,
     "metadata": {},
     "output_type": "execute_result"
    }
   ],
   "source": [
    "last_letters"
   ]
  },
  {
   "cell_type": "code",
   "execution_count": 43,
   "id": "39f796c4",
   "metadata": {},
   "outputs": [],
   "source": [
    "new_name = \"P\"+last_letters"
   ]
  },
  {
   "cell_type": "code",
   "execution_count": 44,
   "id": "9a2686cb",
   "metadata": {},
   "outputs": [
    {
     "data": {
      "text/plain": [
       "'Pam'"
      ]
     },
     "execution_count": 44,
     "metadata": {},
     "output_type": "execute_result"
    }
   ],
   "source": [
    "new_name"
   ]
  },
  {
   "cell_type": "code",
   "execution_count": 45,
   "id": "c4cdb086",
   "metadata": {},
   "outputs": [
    {
     "data": {
      "text/plain": [
       "'PamPamPamPamPamPamPamPamPamPam'"
      ]
     },
     "execution_count": 45,
     "metadata": {},
     "output_type": "execute_result"
    }
   ],
   "source": [
    "new_name*10"
   ]
  },
  {
   "cell_type": "code",
   "execution_count": 46,
   "id": "efc17aa1",
   "metadata": {},
   "outputs": [
    {
     "data": {
      "text/plain": [
       "<function str.upper()>"
      ]
     },
     "execution_count": 46,
     "metadata": {},
     "output_type": "execute_result"
    }
   ],
   "source": [
    "new_name.upper"
   ]
  },
  {
   "cell_type": "code",
   "execution_count": 47,
   "id": "410ce4ae",
   "metadata": {},
   "outputs": [
    {
     "data": {
      "text/plain": [
       "'PAM'"
      ]
     },
     "execution_count": 47,
     "metadata": {},
     "output_type": "execute_result"
    }
   ],
   "source": [
    "new_name.upper()"
   ]
  },
  {
   "cell_type": "code",
   "execution_count": 48,
   "id": "0c1450a8",
   "metadata": {},
   "outputs": [],
   "source": [
    "# write the string name, dot, then tab to see list of string methods"
   ]
  },
  {
   "cell_type": "code",
   "execution_count": 49,
   "id": "5238edb3",
   "metadata": {},
   "outputs": [],
   "source": [
    "x = \"hi this is a string\""
   ]
  },
  {
   "cell_type": "code",
   "execution_count": 50,
   "id": "3c3b126c",
   "metadata": {},
   "outputs": [
    {
     "data": {
      "text/plain": [
       "['hi', 'this', 'is', 'a', 'string']"
      ]
     },
     "execution_count": 50,
     "metadata": {},
     "output_type": "execute_result"
    }
   ],
   "source": [
    "x.split()"
   ]
  },
  {
   "cell_type": "code",
   "execution_count": 51,
   "id": "0f6d6abc",
   "metadata": {},
   "outputs": [
    {
     "ename": "NameError",
     "evalue": "name 'i' is not defined",
     "output_type": "error",
     "traceback": [
      "\u001b[1;31m---------------------------------------------------------------------------\u001b[0m",
      "\u001b[1;31mNameError\u001b[0m                                 Traceback (most recent call last)",
      "\u001b[1;32m~\\AppData\\Local\\Temp\\ipykernel_15684\\2441490167.py\u001b[0m in \u001b[0;36m<module>\u001b[1;34m\u001b[0m\n\u001b[1;32m----> 1\u001b[1;33m \u001b[0mx\u001b[0m\u001b[1;33m.\u001b[0m\u001b[0msplit\u001b[0m\u001b[1;33m(\u001b[0m\u001b[0mi\u001b[0m\u001b[1;33m)\u001b[0m\u001b[1;33m\u001b[0m\u001b[1;33m\u001b[0m\u001b[0m\n\u001b[0m",
      "\u001b[1;31mNameError\u001b[0m: name 'i' is not defined"
     ]
    }
   ],
   "source": [
    "x.split(i)"
   ]
  },
  {
   "cell_type": "code",
   "execution_count": 52,
   "id": "a37ca4e1",
   "metadata": {},
   "outputs": [
    {
     "data": {
      "text/plain": [
       "['h', ' th', 's ', 's a str', 'ng']"
      ]
     },
     "execution_count": 52,
     "metadata": {},
     "output_type": "execute_result"
    }
   ],
   "source": [
    "x.split(\"i\")"
   ]
  },
  {
   "cell_type": "code",
   "execution_count": 53,
   "id": "6a270fa5",
   "metadata": {},
   "outputs": [
    {
     "ename": "NameError",
     "evalue": "name 'INSERTED' is not defined",
     "output_type": "error",
     "traceback": [
      "\u001b[1;31m---------------------------------------------------------------------------\u001b[0m",
      "\u001b[1;31mNameError\u001b[0m                                 Traceback (most recent call last)",
      "\u001b[1;32m~\\AppData\\Local\\Temp\\ipykernel_15684\\3474127294.py\u001b[0m in \u001b[0;36m<module>\u001b[1;34m\u001b[0m\n\u001b[1;32m----> 1\u001b[1;33m \u001b[0mprint\u001b[0m\u001b[1;33m(\u001b[0m\u001b[1;34m\"this is a sring {}\"\u001b[0m\u001b[1;33m.\u001b[0m\u001b[0mformat\u001b[0m\u001b[1;33m(\u001b[0m\u001b[0mINSERTED\u001b[0m\u001b[1;33m)\u001b[0m\u001b[1;33m)\u001b[0m\u001b[1;33m\u001b[0m\u001b[1;33m\u001b[0m\u001b[0m\n\u001b[0m",
      "\u001b[1;31mNameError\u001b[0m: name 'INSERTED' is not defined"
     ]
    }
   ],
   "source": [
    "print(\"this is a sring {}\".format(INSERTED))"
   ]
  },
  {
   "cell_type": "code",
   "execution_count": 54,
   "id": "601580c4",
   "metadata": {},
   "outputs": [
    {
     "name": "stdout",
     "output_type": "stream",
     "text": [
      "this is a sring INSERTED\n"
     ]
    }
   ],
   "source": [
    "print(\"this is a sring {}\".format(\"INSERTED\"))"
   ]
  },
  {
   "cell_type": "code",
   "execution_count": 55,
   "id": "caa3c41e",
   "metadata": {},
   "outputs": [
    {
     "name": "stdout",
     "output_type": "stream",
     "text": [
      "this is a string {} hi\n"
     ]
    }
   ],
   "source": [
    "print(\"this is a string {}\", \"hi\")"
   ]
  },
  {
   "cell_type": "code",
   "execution_count": 56,
   "id": "c34e8cb3",
   "metadata": {},
   "outputs": [
    {
     "name": "stdout",
     "output_type": "stream",
     "text": [
      "the brown fox quick\n"
     ]
    }
   ],
   "source": [
    "print(\"the {} {} {}\".format(\"brown\", \"fox\", \"quick\"))"
   ]
  },
  {
   "cell_type": "code",
   "execution_count": 57,
   "id": "8df7415b",
   "metadata": {},
   "outputs": [
    {
     "name": "stdout",
     "output_type": "stream",
     "text": [
      "the quick brown fox\n"
     ]
    }
   ],
   "source": [
    "print(\"the {2} {0} {1}\".format(\"brown\", \"fox\", \"quick\"))"
   ]
  },
  {
   "cell_type": "code",
   "execution_count": 58,
   "id": "6e3a549e",
   "metadata": {},
   "outputs": [
    {
     "name": "stdout",
     "output_type": "stream",
     "text": [
      "the quick brown fox\n"
     ]
    }
   ],
   "source": [
    "print(\"the {q} {b} {f}\".format(b=\"brown\", f=\"fox\", q=\"quick\"))"
   ]
  },
  {
   "cell_type": "code",
   "execution_count": 59,
   "id": "88ab55c1",
   "metadata": {},
   "outputs": [],
   "source": [
    "result=100/777"
   ]
  },
  {
   "cell_type": "code",
   "execution_count": 60,
   "id": "c7691caa",
   "metadata": {},
   "outputs": [
    {
     "data": {
      "text/plain": [
       "0.1287001287001287"
      ]
     },
     "execution_count": 60,
     "metadata": {},
     "output_type": "execute_result"
    }
   ],
   "source": [
    "result"
   ]
  },
  {
   "cell_type": "code",
   "execution_count": 63,
   "id": "f5d53576",
   "metadata": {},
   "outputs": [
    {
     "ename": "KeyError",
     "evalue": "'r'",
     "output_type": "error",
     "traceback": [
      "\u001b[1;31m---------------------------------------------------------------------------\u001b[0m",
      "\u001b[1;31mKeyError\u001b[0m                                  Traceback (most recent call last)",
      "\u001b[1;32m~\\AppData\\Local\\Temp\\ipykernel_15684\\4004536648.py\u001b[0m in \u001b[0;36m<module>\u001b[1;34m\u001b[0m\n\u001b[1;32m----> 1\u001b[1;33m \u001b[0mprint\u001b[0m\u001b[1;33m(\u001b[0m\u001b[1;34m\"the result was {r:1:3}\"\u001b[0m\u001b[1;33m.\u001b[0m\u001b[0mformat\u001b[0m\u001b[1;33m(\u001b[0m\u001b[0mresult\u001b[0m\u001b[1;33m)\u001b[0m\u001b[1;33m)\u001b[0m\u001b[1;33m\u001b[0m\u001b[1;33m\u001b[0m\u001b[0m\n\u001b[0m",
      "\u001b[1;31mKeyError\u001b[0m: 'r'"
     ]
    }
   ],
   "source": [
    "print(\"the result was {r:1:3}\".format(result))"
   ]
  },
  {
   "cell_type": "code",
   "execution_count": 64,
   "id": "d9de24fd",
   "metadata": {},
   "outputs": [
    {
     "ename": "ValueError",
     "evalue": "Invalid format specifier",
     "output_type": "error",
     "traceback": [
      "\u001b[1;31m---------------------------------------------------------------------------\u001b[0m",
      "\u001b[1;31mValueError\u001b[0m                                Traceback (most recent call last)",
      "\u001b[1;32m~\\AppData\\Local\\Temp\\ipykernel_15684\\4294554662.py\u001b[0m in \u001b[0;36m<module>\u001b[1;34m\u001b[0m\n\u001b[1;32m----> 1\u001b[1;33m \u001b[0mprint\u001b[0m\u001b[1;33m(\u001b[0m\u001b[1;34m\"the result was {r:1:3}\"\u001b[0m\u001b[1;33m.\u001b[0m\u001b[0mformat\u001b[0m\u001b[1;33m(\u001b[0m\u001b[0mr\u001b[0m\u001b[1;33m=\u001b[0m\u001b[0mresult\u001b[0m\u001b[1;33m)\u001b[0m\u001b[1;33m)\u001b[0m\u001b[1;33m\u001b[0m\u001b[1;33m\u001b[0m\u001b[0m\n\u001b[0m",
      "\u001b[1;31mValueError\u001b[0m: Invalid format specifier"
     ]
    }
   ],
   "source": [
    "print(\"the result was {r:1:3}\".format(r=result))"
   ]
  },
  {
   "cell_type": "code",
   "execution_count": 65,
   "id": "4a932299",
   "metadata": {},
   "outputs": [
    {
     "name": "stdout",
     "output_type": "stream",
     "text": [
      "the result was 0.129\n"
     ]
    }
   ],
   "source": [
    "print(\"the result was {r:1.3}\".format(r=result))"
   ]
  },
  {
   "cell_type": "code",
   "execution_count": 66,
   "id": "ed27875f",
   "metadata": {},
   "outputs": [
    {
     "ename": "ValueError",
     "evalue": "Invalid format specifier",
     "output_type": "error",
     "traceback": [
      "\u001b[1;31m---------------------------------------------------------------------------\u001b[0m",
      "\u001b[1;31mValueError\u001b[0m                                Traceback (most recent call last)",
      "\u001b[1;32m~\\AppData\\Local\\Temp\\ipykernel_15684\\727867705.py\u001b[0m in \u001b[0;36m<module>\u001b[1;34m\u001b[0m\n\u001b[1;32m----> 1\u001b[1;33m \u001b[0mprint\u001b[0m\u001b[1;33m(\u001b[0m\u001b[1;34m\"the result was {r:10:3}\"\u001b[0m\u001b[1;33m.\u001b[0m\u001b[0mformat\u001b[0m\u001b[1;33m(\u001b[0m\u001b[0mr\u001b[0m\u001b[1;33m=\u001b[0m\u001b[0mresult\u001b[0m\u001b[1;33m)\u001b[0m\u001b[1;33m)\u001b[0m\u001b[1;33m\u001b[0m\u001b[1;33m\u001b[0m\u001b[0m\n\u001b[0m",
      "\u001b[1;31mValueError\u001b[0m: Invalid format specifier"
     ]
    }
   ],
   "source": [
    "print(\"the result was {r:10:3}\".format(r=result))"
   ]
  },
  {
   "cell_type": "code",
   "execution_count": 67,
   "id": "8da288c4",
   "metadata": {},
   "outputs": [
    {
     "name": "stdout",
     "output_type": "stream",
     "text": [
      "the result was      0.129\n"
     ]
    }
   ],
   "source": [
    "print(\"the result was {r:10.3}\".format(r=result))"
   ]
  },
  {
   "cell_type": "code",
   "execution_count": 68,
   "id": "5b0b614c",
   "metadata": {},
   "outputs": [],
   "source": [
    "# r:width(whitespace).precision"
   ]
  },
  {
   "cell_type": "code",
   "execution_count": null,
   "id": "21bfc464",
   "metadata": {},
   "outputs": [],
   "source": []
  },
  {
   "cell_type": "code",
   "execution_count": null,
   "id": "bb8031e3",
   "metadata": {},
   "outputs": [],
   "source": []
  },
  {
   "cell_type": "code",
   "execution_count": 69,
   "id": "ddeb898e",
   "metadata": {},
   "outputs": [],
   "source": [
    "name = \"stew\""
   ]
  },
  {
   "cell_type": "code",
   "execution_count": 70,
   "id": "f82305cc",
   "metadata": {},
   "outputs": [
    {
     "name": "stdout",
     "output_type": "stream",
     "text": [
      "his name is stew\n"
     ]
    }
   ],
   "source": [
    "print(\"his name is {}\".format(name))"
   ]
  },
  {
   "cell_type": "code",
   "execution_count": 71,
   "id": "cc4dabe3",
   "metadata": {},
   "outputs": [],
   "source": [
    "# fstring (new)"
   ]
  },
  {
   "cell_type": "code",
   "execution_count": 72,
   "id": "5c1b4fc0",
   "metadata": {},
   "outputs": [
    {
     "name": "stdout",
     "output_type": "stream",
     "text": [
      "his name is stew\n"
     ]
    }
   ],
   "source": [
    "print(f\"his name is {name}\")"
   ]
  },
  {
   "cell_type": "code",
   "execution_count": 73,
   "id": "f09e23c1",
   "metadata": {},
   "outputs": [],
   "source": [
    "age=3"
   ]
  },
  {
   "cell_type": "code",
   "execution_count": 74,
   "id": "337ef57e",
   "metadata": {},
   "outputs": [
    {
     "ename": "SyntaxError",
     "evalue": "EOL while scanning string literal (2282169427.py, line 1)",
     "output_type": "error",
     "traceback": [
      "\u001b[1;36m  File \u001b[1;32m\"C:\\Users\\toepo\\AppData\\Local\\Temp\\ipykernel_15684\\2282169427.py\"\u001b[1;36m, line \u001b[1;32m1\u001b[0m\n\u001b[1;33m    print(f\"his name is {name} and he is {age} years old)\u001b[0m\n\u001b[1;37m                                                         ^\u001b[0m\n\u001b[1;31mSyntaxError\u001b[0m\u001b[1;31m:\u001b[0m EOL while scanning string literal\n"
     ]
    }
   ],
   "source": [
    "print(f\"his name is {name} and he is {age} years old)"
   ]
  },
  {
   "cell_type": "code",
   "execution_count": 75,
   "id": "5a3bca3d",
   "metadata": {},
   "outputs": [
    {
     "name": "stdout",
     "output_type": "stream",
     "text": [
      "his name is stew and he is 3 years old\n"
     ]
    }
   ],
   "source": [
    "print(f\"his name is {name} and he is {age} years old\")"
   ]
  },
  {
   "cell_type": "code",
   "execution_count": 76,
   "id": "f9ba0e2a",
   "metadata": {},
   "outputs": [],
   "source": [
    "my_list = [1,2,3]"
   ]
  },
  {
   "cell_type": "code",
   "execution_count": 77,
   "id": "dd9789ef",
   "metadata": {},
   "outputs": [],
   "source": [
    "my_list = [1, \"hi\", 23.2]"
   ]
  },
  {
   "cell_type": "code",
   "execution_count": 78,
   "id": "204476d9",
   "metadata": {},
   "outputs": [
    {
     "data": {
      "text/plain": [
       "[1, 'hi', 23.2]"
      ]
     },
     "execution_count": 78,
     "metadata": {},
     "output_type": "execute_result"
    }
   ],
   "source": [
    "my_list"
   ]
  },
  {
   "cell_type": "code",
   "execution_count": 79,
   "id": "8136c594",
   "metadata": {},
   "outputs": [],
   "source": [
    "# lists"
   ]
  },
  {
   "cell_type": "code",
   "execution_count": 80,
   "id": "ca9f0e6e",
   "metadata": {},
   "outputs": [
    {
     "data": {
      "text/plain": [
       "1"
      ]
     },
     "execution_count": 80,
     "metadata": {},
     "output_type": "execute_result"
    }
   ],
   "source": [
    "my_list[0]"
   ]
  },
  {
   "cell_type": "code",
   "execution_count": 81,
   "id": "c5ab70ad",
   "metadata": {},
   "outputs": [
    {
     "data": {
      "text/plain": [
       "23.2"
      ]
     },
     "execution_count": 81,
     "metadata": {},
     "output_type": "execute_result"
    }
   ],
   "source": [
    "my_list[2]"
   ]
  },
  {
   "cell_type": "code",
   "execution_count": 82,
   "id": "0efbb115",
   "metadata": {},
   "outputs": [
    {
     "data": {
      "text/plain": [
       "[1, 'hi', 23.2]"
      ]
     },
     "execution_count": 82,
     "metadata": {},
     "output_type": "execute_result"
    }
   ],
   "source": [
    "my_list[::]"
   ]
  },
  {
   "cell_type": "code",
   "execution_count": 83,
   "id": "61fcf542",
   "metadata": {},
   "outputs": [
    {
     "data": {
      "text/plain": [
       "[23.2, 'hi', 1]"
      ]
     },
     "execution_count": 83,
     "metadata": {},
     "output_type": "execute_result"
    }
   ],
   "source": [
    "my_list[::-1]"
   ]
  },
  {
   "cell_type": "code",
   "execution_count": 84,
   "id": "8b8cc8b9",
   "metadata": {},
   "outputs": [
    {
     "data": {
      "text/plain": [
       "['hi', 23.2]"
      ]
     },
     "execution_count": 84,
     "metadata": {},
     "output_type": "execute_result"
    }
   ],
   "source": [
    "my_list[1:]"
   ]
  },
  {
   "cell_type": "code",
   "execution_count": 85,
   "id": "e15f3ea4",
   "metadata": {},
   "outputs": [],
   "source": [
    "another_list=[4,5]"
   ]
  },
  {
   "cell_type": "code",
   "execution_count": 86,
   "id": "0a9ccd84",
   "metadata": {},
   "outputs": [
    {
     "data": {
      "text/plain": [
       "[1, 'hi', 23.2, 4, 5]"
      ]
     },
     "execution_count": 86,
     "metadata": {},
     "output_type": "execute_result"
    }
   ],
   "source": [
    "my_list+another_list"
   ]
  },
  {
   "cell_type": "code",
   "execution_count": 87,
   "id": "7d64a5ed",
   "metadata": {},
   "outputs": [],
   "source": [
    "# concatened the lists"
   ]
  },
  {
   "cell_type": "code",
   "execution_count": 88,
   "id": "5987e5d7",
   "metadata": {},
   "outputs": [],
   "source": [
    "new_list = my_list+another_list"
   ]
  },
  {
   "cell_type": "code",
   "execution_count": 89,
   "id": "a6e609c4",
   "metadata": {},
   "outputs": [
    {
     "data": {
      "text/plain": [
       "[1, 'hi', 23.2, 4, 5]"
      ]
     },
     "execution_count": 89,
     "metadata": {},
     "output_type": "execute_result"
    }
   ],
   "source": [
    "new_list"
   ]
  },
  {
   "cell_type": "code",
   "execution_count": 90,
   "id": "544171cc",
   "metadata": {},
   "outputs": [],
   "source": [
    "new_list[0] = \"ONE IN ALL CAPS\""
   ]
  },
  {
   "cell_type": "code",
   "execution_count": 91,
   "id": "af2bfda8",
   "metadata": {},
   "outputs": [
    {
     "data": {
      "text/plain": [
       "['ONE IN ALL CAPS', 'hi', 23.2, 4, 5]"
      ]
     },
     "execution_count": 91,
     "metadata": {},
     "output_type": "execute_result"
    }
   ],
   "source": [
    "new_list"
   ]
  },
  {
   "cell_type": "code",
   "execution_count": 92,
   "id": "c9d16de9",
   "metadata": {},
   "outputs": [],
   "source": [
    "new_list.append('new item')"
   ]
  },
  {
   "cell_type": "code",
   "execution_count": 93,
   "id": "9c3be54f",
   "metadata": {},
   "outputs": [
    {
     "data": {
      "text/plain": [
       "['ONE IN ALL CAPS', 'hi', 23.2, 4, 5, 'new item']"
      ]
     },
     "execution_count": 93,
     "metadata": {},
     "output_type": "execute_result"
    }
   ],
   "source": [
    "new_list"
   ]
  },
  {
   "cell_type": "code",
   "execution_count": 94,
   "id": "e2b7a89e",
   "metadata": {},
   "outputs": [
    {
     "ename": "IndexError",
     "evalue": "pop index out of range",
     "output_type": "error",
     "traceback": [
      "\u001b[1;31m---------------------------------------------------------------------------\u001b[0m",
      "\u001b[1;31mIndexError\u001b[0m                                Traceback (most recent call last)",
      "\u001b[1;32m~\\AppData\\Local\\Temp\\ipykernel_15684\\3484286404.py\u001b[0m in \u001b[0;36m<module>\u001b[1;34m\u001b[0m\n\u001b[1;32m----> 1\u001b[1;33m \u001b[0mnew_list\u001b[0m\u001b[1;33m.\u001b[0m\u001b[0mpop\u001b[0m\u001b[1;33m(\u001b[0m\u001b[1;36m7\u001b[0m\u001b[1;33m)\u001b[0m\u001b[1;33m\u001b[0m\u001b[1;33m\u001b[0m\u001b[0m\n\u001b[0m",
      "\u001b[1;31mIndexError\u001b[0m: pop index out of range"
     ]
    }
   ],
   "source": [
    "new_list.pop(7)"
   ]
  },
  {
   "cell_type": "code",
   "execution_count": 95,
   "id": "627de1dc",
   "metadata": {},
   "outputs": [
    {
     "data": {
      "text/plain": [
       "'new item'"
      ]
     },
     "execution_count": 95,
     "metadata": {},
     "output_type": "execute_result"
    }
   ],
   "source": [
    "new_list.pop()"
   ]
  },
  {
   "cell_type": "code",
   "execution_count": 96,
   "id": "7dc49526",
   "metadata": {},
   "outputs": [
    {
     "data": {
      "text/plain": [
       "['ONE IN ALL CAPS', 'hi', 23.2, 4, 5]"
      ]
     },
     "execution_count": 96,
     "metadata": {},
     "output_type": "execute_result"
    }
   ],
   "source": [
    "new_list"
   ]
  },
  {
   "cell_type": "code",
   "execution_count": 97,
   "id": "a14df4fb",
   "metadata": {},
   "outputs": [],
   "source": [
    "popped_item = new_list.pop()"
   ]
  },
  {
   "cell_type": "code",
   "execution_count": 98,
   "id": "84a95ace",
   "metadata": {},
   "outputs": [
    {
     "data": {
      "text/plain": [
       "5"
      ]
     },
     "execution_count": 98,
     "metadata": {},
     "output_type": "execute_result"
    }
   ],
   "source": [
    "popped_item"
   ]
  },
  {
   "cell_type": "code",
   "execution_count": 99,
   "id": "7bdb48e4",
   "metadata": {},
   "outputs": [
    {
     "data": {
      "text/plain": [
       "'ONE IN ALL CAPS'"
      ]
     },
     "execution_count": 99,
     "metadata": {},
     "output_type": "execute_result"
    }
   ],
   "source": [
    "new_list.pop(0)"
   ]
  },
  {
   "cell_type": "code",
   "execution_count": 100,
   "id": "4b6dd566",
   "metadata": {},
   "outputs": [
    {
     "data": {
      "text/plain": [
       "['hi', 23.2, 4]"
      ]
     },
     "execution_count": 100,
     "metadata": {},
     "output_type": "execute_result"
    }
   ],
   "source": [
    "new_list"
   ]
  },
  {
   "cell_type": "code",
   "execution_count": 101,
   "id": "b94402f4",
   "metadata": {},
   "outputs": [],
   "source": [
    "list2=['b', 'x', 's', 'f', 't', 'e']"
   ]
  },
  {
   "cell_type": "code",
   "execution_count": 102,
   "id": "d198f365",
   "metadata": {},
   "outputs": [
    {
     "data": {
      "text/plain": [
       "['b', 'x', 's', 'f', 't', 'e']"
      ]
     },
     "execution_count": 102,
     "metadata": {},
     "output_type": "execute_result"
    }
   ],
   "source": [
    "list2"
   ]
  },
  {
   "cell_type": "code",
   "execution_count": 103,
   "id": "99797911",
   "metadata": {},
   "outputs": [],
   "source": [
    "list_sort=list2.sort()"
   ]
  },
  {
   "cell_type": "code",
   "execution_count": 104,
   "id": "9a2ba113",
   "metadata": {},
   "outputs": [],
   "source": [
    "list_sort"
   ]
  },
  {
   "cell_type": "code",
   "execution_count": 105,
   "id": "a3793fa6",
   "metadata": {},
   "outputs": [],
   "source": [
    "list_sort"
   ]
  },
  {
   "cell_type": "code",
   "execution_count": 106,
   "id": "b1889c0b",
   "metadata": {},
   "outputs": [],
   "source": [
    "list2.sort()"
   ]
  },
  {
   "cell_type": "code",
   "execution_count": 107,
   "id": "c7d663ab",
   "metadata": {},
   "outputs": [
    {
     "data": {
      "text/plain": [
       "['b', 'e', 'f', 's', 't', 'x']"
      ]
     },
     "execution_count": 107,
     "metadata": {},
     "output_type": "execute_result"
    }
   ],
   "source": [
    "list2"
   ]
  },
  {
   "cell_type": "code",
   "execution_count": 108,
   "id": "7e2d5c40",
   "metadata": {},
   "outputs": [],
   "source": [
    "list3_nums = [4,7,2,9,3,1]"
   ]
  },
  {
   "cell_type": "code",
   "execution_count": 109,
   "id": "746ec1eb",
   "metadata": {},
   "outputs": [
    {
     "data": {
      "text/plain": [
       "[4, 7, 2, 9, 3, 1]"
      ]
     },
     "execution_count": 109,
     "metadata": {},
     "output_type": "execute_result"
    }
   ],
   "source": [
    "list3_nums"
   ]
  },
  {
   "cell_type": "code",
   "execution_count": 110,
   "id": "b53c1338",
   "metadata": {},
   "outputs": [],
   "source": [
    "list2.sort()"
   ]
  },
  {
   "cell_type": "code",
   "execution_count": 111,
   "id": "dd806020",
   "metadata": {},
   "outputs": [
    {
     "data": {
      "text/plain": [
       "['b', 'e', 'f', 's', 't', 'x']"
      ]
     },
     "execution_count": 111,
     "metadata": {},
     "output_type": "execute_result"
    }
   ],
   "source": [
    "list2"
   ]
  },
  {
   "cell_type": "code",
   "execution_count": 112,
   "id": "5936fc6e",
   "metadata": {},
   "outputs": [],
   "source": [
    "list3_nums.sort()"
   ]
  },
  {
   "cell_type": "code",
   "execution_count": 113,
   "id": "a9399150",
   "metadata": {},
   "outputs": [
    {
     "data": {
      "text/plain": [
       "[1, 2, 3, 4, 7, 9]"
      ]
     },
     "execution_count": 113,
     "metadata": {},
     "output_type": "execute_result"
    }
   ],
   "source": [
    "list3_nums"
   ]
  },
  {
   "cell_type": "code",
   "execution_count": 114,
   "id": "36f0308b",
   "metadata": {},
   "outputs": [],
   "source": [
    "# sorts the list IN PLACE, the list has been sorted in place"
   ]
  },
  {
   "cell_type": "code",
   "execution_count": 115,
   "id": "0495b740",
   "metadata": {},
   "outputs": [
    {
     "data": {
      "text/plain": [
       "list"
      ]
     },
     "execution_count": 115,
     "metadata": {},
     "output_type": "execute_result"
    }
   ],
   "source": [
    "type(list2)"
   ]
  },
  {
   "cell_type": "code",
   "execution_count": 116,
   "id": "aacb0e94",
   "metadata": {},
   "outputs": [
    {
     "data": {
      "text/plain": [
       "NoneType"
      ]
     },
     "execution_count": 116,
     "metadata": {},
     "output_type": "execute_result"
    }
   ],
   "source": [
    "type(list_sort)"
   ]
  },
  {
   "cell_type": "code",
   "execution_count": 117,
   "id": "334db3d9",
   "metadata": {},
   "outputs": [],
   "source": [
    "list4 = [5,3,8,1,2]"
   ]
  },
  {
   "cell_type": "code",
   "execution_count": 118,
   "id": "23116691",
   "metadata": {},
   "outputs": [],
   "source": [
    "sorted4 = list4.sort()"
   ]
  },
  {
   "cell_type": "code",
   "execution_count": 119,
   "id": "c4b3d50a",
   "metadata": {},
   "outputs": [],
   "source": [
    "sorted4"
   ]
  },
  {
   "cell_type": "code",
   "execution_count": 120,
   "id": "0f7fc11d",
   "metadata": {},
   "outputs": [],
   "source": [
    "sorted4"
   ]
  },
  {
   "cell_type": "code",
   "execution_count": 121,
   "id": "ddb42cc5",
   "metadata": {},
   "outputs": [
    {
     "data": {
      "text/plain": [
       "NoneType"
      ]
     },
     "execution_count": 121,
     "metadata": {},
     "output_type": "execute_result"
    }
   ],
   "source": [
    "type(sorted4)"
   ]
  },
  {
   "cell_type": "code",
   "execution_count": 122,
   "id": "db1ea165",
   "metadata": {},
   "outputs": [
    {
     "data": {
      "text/plain": [
       "[1, 2, 3, 5, 8]"
      ]
     },
     "execution_count": 122,
     "metadata": {},
     "output_type": "execute_result"
    }
   ],
   "source": [
    "list4"
   ]
  },
  {
   "cell_type": "code",
   "execution_count": 123,
   "id": "ee697892",
   "metadata": {},
   "outputs": [],
   "source": [
    "list4.reverse()"
   ]
  },
  {
   "cell_type": "code",
   "execution_count": 124,
   "id": "b6f637cf",
   "metadata": {},
   "outputs": [
    {
     "data": {
      "text/plain": [
       "[8, 5, 3, 2, 1]"
      ]
     },
     "execution_count": 124,
     "metadata": {},
     "output_type": "execute_result"
    }
   ],
   "source": [
    "list4"
   ]
  },
  {
   "cell_type": "code",
   "execution_count": 125,
   "id": "8c18b4d8",
   "metadata": {},
   "outputs": [],
   "source": [
    "# dictionaries"
   ]
  },
  {
   "cell_type": "code",
   "execution_count": 126,
   "id": "6fd3d148",
   "metadata": {},
   "outputs": [],
   "source": [
    "my_dict = {'k1': 1, 'k2': \"hi\" }"
   ]
  },
  {
   "cell_type": "code",
   "execution_count": 127,
   "id": "97d0c2d6",
   "metadata": {},
   "outputs": [
    {
     "ename": "TypeError",
     "evalue": "'dict' object is not callable",
     "output_type": "error",
     "traceback": [
      "\u001b[1;31m---------------------------------------------------------------------------\u001b[0m",
      "\u001b[1;31mTypeError\u001b[0m                                 Traceback (most recent call last)",
      "\u001b[1;32m~\\AppData\\Local\\Temp\\ipykernel_15684\\960830184.py\u001b[0m in \u001b[0;36m<module>\u001b[1;34m\u001b[0m\n\u001b[1;32m----> 1\u001b[1;33m \u001b[0mmy_dict\u001b[0m\u001b[1;33m(\u001b[0m\u001b[1;34m'k2'\u001b[0m\u001b[1;33m)\u001b[0m\u001b[1;33m\u001b[0m\u001b[1;33m\u001b[0m\u001b[0m\n\u001b[0m",
      "\u001b[1;31mTypeError\u001b[0m: 'dict' object is not callable"
     ]
    }
   ],
   "source": [
    "my_dict('k2')"
   ]
  },
  {
   "cell_type": "code",
   "execution_count": 128,
   "id": "8d2b3bcf",
   "metadata": {},
   "outputs": [
    {
     "data": {
      "text/plain": [
       "1"
      ]
     },
     "execution_count": 128,
     "metadata": {},
     "output_type": "execute_result"
    }
   ],
   "source": [
    "my_dict['k1']"
   ]
  },
  {
   "cell_type": "code",
   "execution_count": 129,
   "id": "6b50d461",
   "metadata": {},
   "outputs": [
    {
     "data": {
      "text/plain": [
       "'hi'"
      ]
     },
     "execution_count": 129,
     "metadata": {},
     "output_type": "execute_result"
    }
   ],
   "source": [
    "my_dict['k2']"
   ]
  },
  {
   "cell_type": "code",
   "execution_count": 130,
   "id": "35cf46d3",
   "metadata": {},
   "outputs": [],
   "source": [
    "price_lookup = {'apple':2.99, 'banana':3.99, 'bag':1}"
   ]
  },
  {
   "cell_type": "code",
   "execution_count": 131,
   "id": "c6f15ded",
   "metadata": {},
   "outputs": [
    {
     "data": {
      "text/plain": [
       "2.99"
      ]
     },
     "execution_count": 131,
     "metadata": {},
     "output_type": "execute_result"
    }
   ],
   "source": [
    "price_lookup['apple']"
   ]
  },
  {
   "cell_type": "code",
   "execution_count": 1,
   "id": "22ced98b",
   "metadata": {},
   "outputs": [],
   "source": [
    "dic = {'k1':12, 'k2':[0,1,2,3], 'k3':{'key':'frog'}}"
   ]
  },
  {
   "cell_type": "code",
   "execution_count": 2,
   "id": "06d46ff0",
   "metadata": {},
   "outputs": [
    {
     "data": {
      "text/plain": [
       "12"
      ]
     },
     "execution_count": 2,
     "metadata": {},
     "output_type": "execute_result"
    }
   ],
   "source": [
    "dic['k1']"
   ]
  },
  {
   "cell_type": "code",
   "execution_count": 3,
   "id": "4c000f9c",
   "metadata": {},
   "outputs": [
    {
     "data": {
      "text/plain": [
       "'frog'"
      ]
     },
     "execution_count": 3,
     "metadata": {},
     "output_type": "execute_result"
    }
   ],
   "source": [
    "dic['k3']['key']"
   ]
  },
  {
   "cell_type": "code",
   "execution_count": 4,
   "id": "5fd583ac",
   "metadata": {},
   "outputs": [],
   "source": [
    "# dictionary conating int, list and another dictionary "
   ]
  },
  {
   "cell_type": "code",
   "execution_count": null,
   "id": "7ff52b51",
   "metadata": {},
   "outputs": [],
   "source": []
  }
 ],
 "metadata": {
  "kernelspec": {
   "display_name": "Python 3 (ipykernel)",
   "language": "python",
   "name": "python3"
  },
  "language_info": {
   "codemirror_mode": {
    "name": "ipython",
    "version": 3
   },
   "file_extension": ".py",
   "mimetype": "text/x-python",
   "name": "python",
   "nbconvert_exporter": "python",
   "pygments_lexer": "ipython3",
   "version": "3.9.13"
  }
 },
 "nbformat": 4,
 "nbformat_minor": 5
}
