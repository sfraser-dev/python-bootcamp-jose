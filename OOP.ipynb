{
 "cells": [
  {
   "cell_type": "code",
   "execution_count": 1,
   "id": "8ccb7677",
   "metadata": {},
   "outputs": [],
   "source": [
    "class Sample():\n",
    "    pass"
   ]
  },
  {
   "cell_type": "code",
   "execution_count": 3,
   "id": "13c57b00",
   "metadata": {},
   "outputs": [],
   "source": [
    "my_sample = Sample()"
   ]
  },
  {
   "cell_type": "code",
   "execution_count": 4,
   "id": "7c1a657d",
   "metadata": {},
   "outputs": [
    {
     "data": {
      "text/plain": [
       "__main__.Sample"
      ]
     },
     "execution_count": 4,
     "metadata": {},
     "output_type": "execute_result"
    }
   ],
   "source": [
    "type(my_sample)"
   ]
  },
  {
   "cell_type": "code",
   "execution_count": 18,
   "id": "6f4c0ce0",
   "metadata": {},
   "outputs": [],
   "source": [
    "class DogTest():\n",
    "    def __init__(self, my_breed):  # constructor\n",
    "        self.breed = my_breed      # assign class attibute breed"
   ]
  },
  {
   "cell_type": "code",
   "execution_count": 19,
   "id": "79108527",
   "metadata": {},
   "outputs": [],
   "source": [
    "my_dog = DogTest(my_breed='Lab')"
   ]
  },
  {
   "cell_type": "code",
   "execution_count": 20,
   "id": "be9f9c5f",
   "metadata": {},
   "outputs": [
    {
     "data": {
      "text/plain": [
       "__main__.DogTest"
      ]
     },
     "execution_count": 20,
     "metadata": {},
     "output_type": "execute_result"
    }
   ],
   "source": [
    "type(my_dog)"
   ]
  },
  {
   "cell_type": "code",
   "execution_count": 25,
   "id": "78fd2260",
   "metadata": {},
   "outputs": [],
   "source": [
    "class DogTest2():\n",
    "    def __init__(self, breed, name, spots):\n",
    "        self.breed = breed\n",
    "        self.name = name\n",
    "        self.spots = spots\n",
    "        "
   ]
  },
  {
   "cell_type": "code",
   "execution_count": 26,
   "id": "70ec55c1",
   "metadata": {},
   "outputs": [],
   "source": [
    "my_dog = DogTest2('Lab','Wolfie',False)"
   ]
  },
  {
   "cell_type": "code",
   "execution_count": 30,
   "id": "9efcca58",
   "metadata": {},
   "outputs": [],
   "source": [
    "class DogTest3():\n",
    "    # class object attributes\n",
    "    # same for any instance of a class\n",
    "    species = 'mammal'\n",
    "    \n",
    "    def __init__(self, breed, name, spots):\n",
    "        self.breed = breed\n",
    "        self.name = name\n",
    "        self.spots = spots"
   ]
  },
  {
   "cell_type": "code",
   "execution_count": 31,
   "id": "de751848",
   "metadata": {},
   "outputs": [],
   "source": [
    "my_dog = DogTest3('Dalmation', 'Max', True) "
   ]
  },
  {
   "cell_type": "code",
   "execution_count": 32,
   "id": "e18d97a0",
   "metadata": {},
   "outputs": [
    {
     "data": {
      "text/plain": [
       "'mammal'"
      ]
     },
     "execution_count": 32,
     "metadata": {},
     "output_type": "execute_result"
    }
   ],
   "source": [
    "my_dog.species"
   ]
  },
  {
   "cell_type": "code",
   "execution_count": 53,
   "id": "d6a4d5ca",
   "metadata": {},
   "outputs": [],
   "source": [
    "class DogTest4():\n",
    "    # class object attributes that all Dogs have\n",
    "    # same for any instance of a class\n",
    "    species = 'mammal'\n",
    "    \n",
    "    def __init__(self, breed, name):\n",
    "        self.breed = breed  # self attributes for instantiations\n",
    "        self.name = name\n",
    "    \n",
    "    # operations / methods\n",
    "    def bark(self, number_test):\n",
    "        print(f'woof woof, my name is {self.name} and the number is {number_test}')"
   ]
  },
  {
   "cell_type": "code",
   "execution_count": 54,
   "id": "f2198904",
   "metadata": {},
   "outputs": [],
   "source": [
    "my_dog = DogTest4('Lab', 'Frankie')"
   ]
  },
  {
   "cell_type": "code",
   "execution_count": 55,
   "id": "96200114",
   "metadata": {},
   "outputs": [
    {
     "name": "stdout",
     "output_type": "stream",
     "text": [
      "woof woof, my name is Frankie and the number is 3\n"
     ]
    }
   ],
   "source": [
    "my_dog.bark(3)"
   ]
  },
  {
   "cell_type": "code",
   "execution_count": 71,
   "id": "d0b779bc",
   "metadata": {},
   "outputs": [],
   "source": [
    "class Circle():\n",
    "    # class object attribute all circles have\n",
    "    pi = 3.14\n",
    "    \n",
    "    def __init__(self, radius=1):\n",
    "        self.radius = radius\n",
    "        self.area = Circle.pi*(radius**2)\n",
    "        \n",
    "    def get_circumference(self):\n",
    "        return 2*Circle.pi*self.radius\n",
    "    "
   ]
  },
  {
   "cell_type": "code",
   "execution_count": 72,
   "id": "80187c46",
   "metadata": {},
   "outputs": [],
   "source": [
    "my_circ = Circle(2)"
   ]
  },
  {
   "cell_type": "code",
   "execution_count": 73,
   "id": "439bf8e8",
   "metadata": {},
   "outputs": [
    {
     "data": {
      "text/plain": [
       "12.56"
      ]
     },
     "execution_count": 73,
     "metadata": {},
     "output_type": "execute_result"
    }
   ],
   "source": [
    "my_circ.get_circumference()"
   ]
  },
  {
   "cell_type": "code",
   "execution_count": 74,
   "id": "0e6949b6",
   "metadata": {},
   "outputs": [
    {
     "data": {
      "text/plain": [
       "12.56"
      ]
     },
     "execution_count": 74,
     "metadata": {},
     "output_type": "execute_result"
    }
   ],
   "source": [
    "my_circ.area"
   ]
  },
  {
   "cell_type": "code",
   "execution_count": 75,
   "id": "efb0f0f2",
   "metadata": {},
   "outputs": [],
   "source": [
    "your_circ = Circle(5)"
   ]
  },
  {
   "cell_type": "code",
   "execution_count": 76,
   "id": "c7f4cb28",
   "metadata": {},
   "outputs": [
    {
     "data": {
      "text/plain": [
       "31.400000000000002"
      ]
     },
     "execution_count": 76,
     "metadata": {},
     "output_type": "execute_result"
    }
   ],
   "source": [
    "your_circ.get_circumference()"
   ]
  },
  {
   "cell_type": "code",
   "execution_count": 77,
   "id": "7c2b403f",
   "metadata": {},
   "outputs": [
    {
     "data": {
      "text/plain": [
       "78.5"
      ]
     },
     "execution_count": 77,
     "metadata": {},
     "output_type": "execute_result"
    }
   ],
   "source": [
    "your_circ.area"
   ]
  },
  {
   "cell_type": "code",
   "execution_count": 84,
   "id": "e769e74e",
   "metadata": {},
   "outputs": [],
   "source": [
    "class Animal():\n",
    "    def __init__(self):\n",
    "        print('Animal created')\n",
    "        \n",
    "    def who_am_i(self):\n",
    "        print('I am an animal')\n",
    "        \n",
    "    def eat(self):\n",
    "        print('I am eating')"
   ]
  },
  {
   "cell_type": "code",
   "execution_count": 85,
   "id": "04d05f8a",
   "metadata": {},
   "outputs": [
    {
     "name": "stdout",
     "output_type": "stream",
     "text": [
      "Animal created\n"
     ]
    }
   ],
   "source": [
    "my_animal = Animal()"
   ]
  },
  {
   "cell_type": "code",
   "execution_count": 86,
   "id": "958ed2e3",
   "metadata": {},
   "outputs": [
    {
     "name": "stdout",
     "output_type": "stream",
     "text": [
      "I am an animal\n"
     ]
    }
   ],
   "source": [
    "my_animal.who_am_i()"
   ]
  },
  {
   "cell_type": "code",
   "execution_count": 88,
   "id": "c2032944",
   "metadata": {},
   "outputs": [
    {
     "name": "stdout",
     "output_type": "stream",
     "text": [
      "I am eating\n"
     ]
    }
   ],
   "source": [
    "my_animal.eat()"
   ]
  },
  {
   "cell_type": "code",
   "execution_count": 92,
   "id": "7928cacd",
   "metadata": {},
   "outputs": [],
   "source": [
    "class Dog(Animal):   # Dog is derived from base class Animal\n",
    "    def __init__(self):\n",
    "        Animal.__init__(self)\n",
    "        print('dog created')\n",
    "        \n",
    "    def who_am_i(self):\n",
    "        print('I am a dog')\n",
    "    \n",
    "    def eat(self):\n",
    "        print(\"I'm eating a bone\")\n",
    "    "
   ]
  },
  {
   "cell_type": "code",
   "execution_count": 96,
   "id": "8d04c11f",
   "metadata": {},
   "outputs": [
    {
     "name": "stdout",
     "output_type": "stream",
     "text": [
      "Animal created\n",
      "dog created\n"
     ]
    }
   ],
   "source": [
    "doggie = Dog()"
   ]
  },
  {
   "cell_type": "code",
   "execution_count": 97,
   "id": "809ab5a2",
   "metadata": {},
   "outputs": [
    {
     "name": "stdout",
     "output_type": "stream",
     "text": [
      "I'm eating a bone\n"
     ]
    }
   ],
   "source": [
    "doggie.eat()"
   ]
  },
  {
   "cell_type": "code",
   "execution_count": 98,
   "id": "c5711e6b",
   "metadata": {},
   "outputs": [
    {
     "name": "stdout",
     "output_type": "stream",
     "text": [
      "I am a dog\n"
     ]
    }
   ],
   "source": [
    "doggie.who_am_i()"
   ]
  },
  {
   "cell_type": "code",
   "execution_count": 100,
   "id": "f68d7866",
   "metadata": {},
   "outputs": [],
   "source": [
    "######################## polymorphisim\n",
    "class Bird():\n",
    "    def __init__(self,name):\n",
    "        self.name = name\n",
    "        \n",
    "    def speak(self):\n",
    "        print('tweet tweet')"
   ]
  },
  {
   "cell_type": "code",
   "execution_count": 109,
   "id": "c9637231",
   "metadata": {},
   "outputs": [],
   "source": [
    "class Cat():\n",
    "    def __init__(self, name):\n",
    "        self.name = name\n",
    "        \n",
    "    def speak(self):\n",
    "        print('meow')"
   ]
  },
  {
   "cell_type": "code",
   "execution_count": 110,
   "id": "544bca2a",
   "metadata": {},
   "outputs": [],
   "source": [
    "barry = Bird('barry')"
   ]
  },
  {
   "cell_type": "code",
   "execution_count": 111,
   "id": "b87296bd",
   "metadata": {},
   "outputs": [],
   "source": [
    "felix = Cat('felix')"
   ]
  },
  {
   "cell_type": "code",
   "execution_count": 112,
   "id": "a289b642",
   "metadata": {},
   "outputs": [],
   "source": [
    "def pet_speak(pet):\n",
    "    pet.speak()"
   ]
  },
  {
   "cell_type": "code",
   "execution_count": 113,
   "id": "103146a0",
   "metadata": {},
   "outputs": [
    {
     "name": "stdout",
     "output_type": "stream",
     "text": [
      "tweet tweet\n"
     ]
    }
   ],
   "source": [
    "pet_speak(barry)"
   ]
  },
  {
   "cell_type": "code",
   "execution_count": 114,
   "id": "380cc4cc",
   "metadata": {},
   "outputs": [
    {
     "name": "stdout",
     "output_type": "stream",
     "text": [
      "meow\n"
     ]
    }
   ],
   "source": [
    "pet_speak(felix)"
   ]
  },
  {
   "cell_type": "code",
   "execution_count": 115,
   "id": "1e834034",
   "metadata": {},
   "outputs": [],
   "source": [
    "#################### abstract classes (base classes never intended to be instantiated)\n",
    "class Animal():\n",
    "    def __init__(self, name):\n",
    "        self.name = name\n",
    "        \n",
    "    def speak(self):\n",
    "        raise NotImplementedError  # raise an error never meant to be called"
   ]
  },
  {
   "cell_type": "code",
   "execution_count": 116,
   "id": "4653397d",
   "metadata": {},
   "outputs": [],
   "source": [
    "alan = Animal('alan')"
   ]
  },
  {
   "cell_type": "code",
   "execution_count": 117,
   "id": "fe224364",
   "metadata": {},
   "outputs": [
    {
     "ename": "NotImplementedError",
     "evalue": "",
     "output_type": "error",
     "traceback": [
      "\u001b[1;31m---------------------------------------------------------------------------\u001b[0m",
      "\u001b[1;31mNotImplementedError\u001b[0m                       Traceback (most recent call last)",
      "\u001b[1;32m~\\AppData\\Local\\Temp\\ipykernel_20572\\160676825.py\u001b[0m in \u001b[0;36m<module>\u001b[1;34m\u001b[0m\n\u001b[1;32m----> 1\u001b[1;33m \u001b[0malan\u001b[0m\u001b[1;33m.\u001b[0m\u001b[0mspeak\u001b[0m\u001b[1;33m(\u001b[0m\u001b[1;33m)\u001b[0m\u001b[1;33m\u001b[0m\u001b[1;33m\u001b[0m\u001b[0m\n\u001b[0m",
      "\u001b[1;32m~\\AppData\\Local\\Temp\\ipykernel_20572\\1239954778.py\u001b[0m in \u001b[0;36mspeak\u001b[1;34m(self)\u001b[0m\n\u001b[0;32m      5\u001b[0m \u001b[1;33m\u001b[0m\u001b[0m\n\u001b[0;32m      6\u001b[0m     \u001b[1;32mdef\u001b[0m \u001b[0mspeak\u001b[0m\u001b[1;33m(\u001b[0m\u001b[0mself\u001b[0m\u001b[1;33m)\u001b[0m\u001b[1;33m:\u001b[0m\u001b[1;33m\u001b[0m\u001b[1;33m\u001b[0m\u001b[0m\n\u001b[1;32m----> 7\u001b[1;33m         \u001b[1;32mraise\u001b[0m \u001b[0mNotImplementedError\u001b[0m  \u001b[1;31m# raise an error never meant to be called\u001b[0m\u001b[1;33m\u001b[0m\u001b[1;33m\u001b[0m\u001b[0m\n\u001b[0m",
      "\u001b[1;31mNotImplementedError\u001b[0m: "
     ]
    }
   ],
   "source": [
    "alan.speak()"
   ]
  },
  {
   "cell_type": "code",
   "execution_count": 118,
   "id": "f44f2712",
   "metadata": {},
   "outputs": [],
   "source": [
    "class Mouse(Animal):\n",
    "    def __init__(self, name):\n",
    "        self.name = name\n",
    "    def speak(self):\n",
    "        print('sqeak squeak')"
   ]
  },
  {
   "cell_type": "code",
   "execution_count": 119,
   "id": "a162ba73",
   "metadata": {},
   "outputs": [],
   "source": [
    "minny = Mouse('minny')"
   ]
  },
  {
   "cell_type": "code",
   "execution_count": 120,
   "id": "dd92ec18",
   "metadata": {},
   "outputs": [
    {
     "name": "stdout",
     "output_type": "stream",
     "text": [
      "sqeak squeak\n"
     ]
    }
   ],
   "source": [
    "minny.speak()"
   ]
  },
  {
   "cell_type": "code",
   "execution_count": 121,
   "id": "ff5e90b8",
   "metadata": {},
   "outputs": [],
   "source": [
    "class Bear(Animal):\n",
    "    def __init__(self, name):\n",
    "        self.name = name\n",
    "    def speak(self):\n",
    "        print('rooooooaaar')"
   ]
  },
  {
   "cell_type": "code",
   "execution_count": 122,
   "id": "1fff9b0c",
   "metadata": {},
   "outputs": [],
   "source": [
    "ben = Bear('ben')"
   ]
  },
  {
   "cell_type": "code",
   "execution_count": 123,
   "id": "ec2e7c1a",
   "metadata": {},
   "outputs": [
    {
     "name": "stdout",
     "output_type": "stream",
     "text": [
      "rooooooaaar\n"
     ]
    }
   ],
   "source": [
    "ben.speak()"
   ]
  },
  {
   "cell_type": "code",
   "execution_count": 151,
   "id": "c36b8cbd",
   "metadata": {},
   "outputs": [],
   "source": [
    "########################### special / magic / dunder methods\n",
    "class Book(): \n",
    "    def __init__(self, title, author, pages):\n",
    "        self.title = title\n",
    "        self.author = author\n",
    "        self.pages = pages\n",
    "    \n",
    "    def __str__(self):  # dunder / magic\n",
    "        return f\"title = {self.title}, author = {self.author}, pages = {self.pages}\"\n",
    "    \n",
    "    def __len__(self):\n",
    "        return int(self.pages)\n",
    "    \n",
    "    def __del__(self):\n",
    "        print(\"a book object has been deleted\")\n",
    "    \n"
   ]
  },
  {
   "cell_type": "code",
   "execution_count": 152,
   "id": "37818e8a",
   "metadata": {},
   "outputs": [],
   "source": [
    "b = Book('Python Rocks', \"SFraser\", \"150\")"
   ]
  },
  {
   "cell_type": "code",
   "execution_count": 153,
   "id": "4cfed937",
   "metadata": {},
   "outputs": [
    {
     "name": "stdout",
     "output_type": "stream",
     "text": [
      "title = Python Rocks, author = SFraser, pages = 150\n"
     ]
    }
   ],
   "source": [
    "print(b)"
   ]
  },
  {
   "cell_type": "code",
   "execution_count": 154,
   "id": "78fa6289",
   "metadata": {},
   "outputs": [
    {
     "data": {
      "text/plain": [
       "150"
      ]
     },
     "execution_count": 154,
     "metadata": {},
     "output_type": "execute_result"
    }
   ],
   "source": [
    "len(b)"
   ]
  },
  {
   "cell_type": "code",
   "execution_count": 150,
   "id": "50dfe8c2",
   "metadata": {},
   "outputs": [
    {
     "name": "stdout",
     "output_type": "stream",
     "text": [
      "a book object has been deleted\n"
     ]
    }
   ],
   "source": [
    "del b"
   ]
  },
  {
   "cell_type": "code",
   "execution_count": null,
   "id": "be569384",
   "metadata": {},
   "outputs": [],
   "source": []
  }
 ],
 "metadata": {
  "kernelspec": {
   "display_name": "Python 3 (ipykernel)",
   "language": "python",
   "name": "python3"
  },
  "language_info": {
   "codemirror_mode": {
    "name": "ipython",
    "version": 3
   },
   "file_extension": ".py",
   "mimetype": "text/x-python",
   "name": "python",
   "nbconvert_exporter": "python",
   "pygments_lexer": "ipython3",
   "version": "3.9.13"
  }
 },
 "nbformat": 4,
 "nbformat_minor": 5
}
