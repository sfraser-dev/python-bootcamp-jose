{
 "cells": [
  {
   "cell_type": "code",
   "execution_count": 1,
   "id": "5de03a08",
   "metadata": {},
   "outputs": [
    {
     "name": "stdout",
     "output_type": "stream",
     "text": [
      "hi\n"
     ]
    }
   ],
   "source": [
    "############################################################### functions\n",
    "def say_hi():\n",
    "    print(\"hi\")\n",
    "    \n",
    "say_hi()\n",
    "    "
   ]
  },
  {
   "cell_type": "code",
   "execution_count": 2,
   "id": "72f2f96f",
   "metadata": {},
   "outputs": [
    {
     "name": "stdout",
     "output_type": "stream",
     "text": [
      "default thing to say\n"
     ]
    }
   ],
   "source": [
    "def say_something(thing='default thing to say'):\n",
    "    print(thing)\n",
    "\n",
    "say_something()"
   ]
  },
  {
   "cell_type": "code",
   "execution_count": 3,
   "id": "6be9ff19",
   "metadata": {},
   "outputs": [
    {
     "data": {
      "text/plain": [
       "7"
      ]
     },
     "execution_count": 3,
     "metadata": {},
     "output_type": "execute_result"
    }
   ],
   "source": [
    "def sum_them(a,b):\n",
    "    return a+b\n",
    "\n",
    "sum_them(4,3)"
   ]
  },
  {
   "cell_type": "code",
   "execution_count": 4,
   "id": "8ae85b83",
   "metadata": {},
   "outputs": [
    {
     "data": {
      "text/plain": [
       "True"
      ]
     },
     "execution_count": 4,
     "metadata": {},
     "output_type": "execute_result"
    }
   ],
   "source": [
    "def is_even(num):\n",
    "    return num%2==0\n",
    "\n",
    "is_even(4)"
   ]
  },
  {
   "cell_type": "code",
   "execution_count": 5,
   "id": "b9c50801",
   "metadata": {},
   "outputs": [
    {
     "data": {
      "text/plain": [
       "True"
      ]
     },
     "execution_count": 5,
     "metadata": {},
     "output_type": "execute_result"
    }
   ],
   "source": [
    "#### return True if any number is even inside a list\n",
    "def is_even_list(listy):\n",
    "    ret = False\n",
    "    for x in listy:\n",
    "        if (x%2==0):\n",
    "            ret= True\n",
    "    return ret\n",
    "        \n",
    "        \n",
    "\n",
    "my_list=[1,2,3,4,5,6]\n",
    "is_even_list(my_list)"
   ]
  },
  {
   "cell_type": "code",
   "execution_count": 6,
   "id": "bec07b94",
   "metadata": {},
   "outputs": [
    {
     "data": {
      "text/plain": [
       "[2, 8, 12, 20]"
      ]
     },
     "execution_count": 6,
     "metadata": {},
     "output_type": "execute_result"
    }
   ],
   "source": [
    "# return all even numbers in a list\n",
    "def all_evens(listy):\n",
    "    li = [x for x in listy if x%2==0]\n",
    "    return li\n",
    "\n",
    "res = all_evens([1,2, 3, 5, 7, 8, 12, 20, 21])\n",
    "res    "
   ]
  },
  {
   "cell_type": "code",
   "execution_count": 7,
   "id": "f887a8ad",
   "metadata": {},
   "outputs": [
    {
     "name": "stdout",
     "output_type": "stream",
     "text": [
      "APPL\n",
      "GOOG\n",
      "MSFT\n"
     ]
    }
   ],
   "source": [
    "stock_prices = [('APPL', 200), ('GOOG', 1000), ('MSFT',300)]\n",
    "for ticker,price in stock_prices:\n",
    "    print(ticker)"
   ]
  },
  {
   "cell_type": "code",
   "execution_count": 8,
   "id": "8e6d6eed",
   "metadata": {},
   "outputs": [
    {
     "name": "stdout",
     "output_type": "stream",
     "text": [
      "Charlie\n",
      "125\n"
     ]
    }
   ],
   "source": [
    "def employee_of_the_month(list_in):\n",
    "    current_max_worked_hours = 0\n",
    "    employee_of_the_month = ''\n",
    "    for name,hours in list_in:\n",
    "        if hours > current_max_worked_hours:\n",
    "            employee_of_the_month = name\n",
    "            current_max_worked_hours = hours\n",
    "        else: \n",
    "            pass\n",
    "    # return answer as a tuple\n",
    "    return (employee_of_the_month,current_max_worked_hours)\n",
    "\n",
    "work_hours = [('Alice',80), ('Bob',110), ('Charlie',125)]\n",
    "name,hours = employee_of_the_month(work_hours)\n",
    "print(name)\n",
    "print(hours)"
   ]
  },
  {
   "cell_type": "code",
   "execution_count": 9,
   "id": "b36a4ce8",
   "metadata": {},
   "outputs": [
    {
     "name": "stdout",
     "output_type": "stream",
     "text": [
      "what position is the ball in (0, 1 or 2): 1\n",
      "[' ', ' ', '0 ']\n"
     ]
    }
   ],
   "source": [
    "### 3 cup 1 ball game\n",
    "import random\n",
    "        \n",
    "def player_guess():\n",
    "    guess = ''\n",
    "    while guess not in ['0','1','2']:\n",
    "        # input always returns a str\n",
    "        guess = input(\"what position is the ball in (0, 1 or 2): \")\n",
    "    return int(guess)\n",
    "\n",
    "\n",
    "user_guess = player_guess()\n",
    "cups = ['0 ',' ',' ']\n",
    "random.shuffle(cups)\n",
    "print(cups)"
   ]
  },
  {
   "cell_type": "code",
   "execution_count": null,
   "id": "367694b9",
   "metadata": {},
   "outputs": [],
   "source": []
  }
 ],
 "metadata": {
  "kernelspec": {
   "display_name": "Python 3 (ipykernel)",
   "language": "python",
   "name": "python3"
  },
  "language_info": {
   "codemirror_mode": {
    "name": "ipython",
    "version": 3
   },
   "file_extension": ".py",
   "mimetype": "text/x-python",
   "name": "python",
   "nbconvert_exporter": "python",
   "pygments_lexer": "ipython3",
   "version": "3.9.13"
  }
 },
 "nbformat": 4,
 "nbformat_minor": 5
}
