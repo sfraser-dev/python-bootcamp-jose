{
 "cells": [
  {
   "cell_type": "code",
   "execution_count": 1,
   "id": "c0670f00",
   "metadata": {},
   "outputs": [
    {
     "name": "stdout",
     "output_type": "stream",
     "text": [
      "hi\n"
     ]
    }
   ],
   "source": [
    "############################################################### functions\n",
    "def say_hi():\n",
    "    print(\"hi\")\n",
    "    \n",
    "say_hi()\n",
    "    "
   ]
  },
  {
   "cell_type": "code",
   "execution_count": 2,
   "id": "9937abbe",
   "metadata": {},
   "outputs": [
    {
     "name": "stdout",
     "output_type": "stream",
     "text": [
      "default thing to say\n"
     ]
    }
   ],
   "source": [
    "def say_something(thing='default thing to say'):\n",
    "    print(thing)\n",
    "\n",
    "say_something()"
   ]
  },
  {
   "cell_type": "code",
   "execution_count": 3,
   "id": "e0535bbb",
   "metadata": {},
   "outputs": [
    {
     "data": {
      "text/plain": [
       "7"
      ]
     },
     "execution_count": 3,
     "metadata": {},
     "output_type": "execute_result"
    }
   ],
   "source": [
    "def sum_them(a,b):\n",
    "    return a+b\n",
    "\n",
    "sum_them(4,3)"
   ]
  },
  {
   "cell_type": "code",
   "execution_count": 4,
   "id": "8e89d950",
   "metadata": {},
   "outputs": [
    {
     "data": {
      "text/plain": [
       "True"
      ]
     },
     "execution_count": 4,
     "metadata": {},
     "output_type": "execute_result"
    }
   ],
   "source": [
    "def is_even(num):\n",
    "    return num%2==0\n",
    "\n",
    "is_even(4)"
   ]
  },
  {
   "cell_type": "code",
   "execution_count": 5,
   "id": "bb12e866",
   "metadata": {},
   "outputs": [
    {
     "data": {
      "text/plain": [
       "True"
      ]
     },
     "execution_count": 5,
     "metadata": {},
     "output_type": "execute_result"
    }
   ],
   "source": [
    "#### return True if any number is even inside a list\n",
    "def is_even_list(listy):\n",
    "    ret = False\n",
    "    for x in listy:\n",
    "        if (x%2==0):\n",
    "            ret= True\n",
    "    return ret\n",
    "        \n",
    "        \n",
    "\n",
    "my_list=[1,2,3,4,5,6]\n",
    "is_even_list(my_list)"
   ]
  },
  {
   "cell_type": "code",
   "execution_count": 6,
   "id": "ea23d127",
   "metadata": {},
   "outputs": [
    {
     "data": {
      "text/plain": [
       "[2, 8, 12, 20]"
      ]
     },
     "execution_count": 6,
     "metadata": {},
     "output_type": "execute_result"
    }
   ],
   "source": [
    "# return all even numbers in a list\n",
    "def all_evens(listy):\n",
    "    li = [x for x in listy if x%2==0]\n",
    "    return li\n",
    "\n",
    "res = all_evens([1,2, 3, 5, 7, 8, 12, 20, 21])\n",
    "res    "
   ]
  },
  {
   "cell_type": "code",
   "execution_count": 7,
   "id": "49860b1d",
   "metadata": {},
   "outputs": [
    {
     "name": "stdout",
     "output_type": "stream",
     "text": [
      "APPL\n",
      "GOOG\n",
      "MSFT\n"
     ]
    }
   ],
   "source": [
    "stock_prices = [('APPL', 200), ('GOOG', 1000), ('MSFT',300)]\n",
    "for ticker,price in stock_prices:\n",
    "    print(ticker)"
   ]
  },
  {
   "cell_type": "code",
   "execution_count": 8,
   "id": "176e1464",
   "metadata": {},
   "outputs": [
    {
     "name": "stdout",
     "output_type": "stream",
     "text": [
      "Charlie\n",
      "125\n"
     ]
    }
   ],
   "source": [
    "def employee_of_the_month(list_in):\n",
    "    current_max_worked_hours = 0\n",
    "    employee_of_the_month = ''\n",
    "    for name,hours in list_in:\n",
    "        if hours > current_max_worked_hours:\n",
    "            employee_of_the_month = name\n",
    "            current_max_worked_hours = hours\n",
    "        else: \n",
    "            pass\n",
    "    # return answer as a tuple\n",
    "    return (employee_of_the_month,current_max_worked_hours)\n",
    "\n",
    "work_hours = [('Alice',80), ('Bob',110), ('Charlie',125)]\n",
    "name,hours = employee_of_the_month(work_hours)\n",
    "print(name)\n",
    "print(hours)"
   ]
  },
  {
   "cell_type": "code",
   "execution_count": 36,
   "id": "f8a19c58",
   "metadata": {},
   "outputs": [
    {
     "name": "stdout",
     "output_type": "stream",
     "text": [
      "what position is the ball in (0, 1 or 2): 1\n",
      "wrong\n",
      "['B', ' ', ' ']\n"
     ]
    }
   ],
   "source": [
    "### 3 cup 1 ball game\n",
    "import random\n",
    "        \n",
    "def player_guess():\n",
    "    guess = ''\n",
    "    while guess not in ['0','1','2']:\n",
    "        # input always returns a str\n",
    "        guess = input(\"what position is the ball in (0, 1 or 2): \")\n",
    "    return int(guess)\n",
    "\n",
    "def check_result(cups,guess):\n",
    "    index = 0\n",
    "    answer = 0\n",
    "    for x in cups:\n",
    "        if x=='B':\n",
    "            answer = index\n",
    "            #print(f'answer = {answer}, index = {index}, guess = {guess}')\n",
    "        else:\n",
    "            pass\n",
    "        index += 1\n",
    "    if guess==answer:\n",
    "        return \"correct\"\n",
    "    else:\n",
    "        return \"wrong\"\n",
    "\n",
    "def shuffle_cups():\n",
    "    cups = ['B',' ',' ']\n",
    "    random.shuffle(cups)\n",
    "    return cups\n",
    "\n",
    "user_guess = player_guess()\n",
    "cups = shuffle_cups()\n",
    "result=check_result(cups,user_guess)\n",
    "print(result)\n",
    "print(cups)"
   ]
  },
  {
   "cell_type": "code",
   "execution_count": 2,
   "id": "0b2c4790",
   "metadata": {},
   "outputs": [
    {
     "data": {
      "text/plain": [
       "[1, 4, 9, 16, 25]"
      ]
     },
     "execution_count": 2,
     "metadata": {},
     "output_type": "execute_result"
    }
   ],
   "source": [
    "############################### map: process iterables WITHOUT a for loop\n",
    "def square_it(num):\n",
    "    return num**2\n",
    "\n",
    "my_nums = [1,2,3,4,5]\n",
    "list(map(square_it,my_nums))"
   ]
  },
  {
   "cell_type": "code",
   "execution_count": 6,
   "id": "5eafb76f",
   "metadata": {},
   "outputs": [
    {
     "data": {
      "text/plain": [
       "[2, 4, 6, 8]"
      ]
     },
     "execution_count": 6,
     "metadata": {},
     "output_type": "execute_result"
    }
   ],
   "source": [
    "############################### filter: process iterables WITHOUT a for loop (select based non True or False)\n",
    "def is_even(num):\n",
    "    return num%2==0\n",
    "\n",
    "my_list = [1,2,3,4,5,6,7,8,9]\n",
    "list(filter(is_even,my_list))"
   ]
  },
  {
   "cell_type": "code",
   "execution_count": 9,
   "id": "ef4fd838",
   "metadata": {},
   "outputs": [
    {
     "name": "stdout",
     "output_type": "stream",
     "text": [
      "2\n",
      "4\n",
      "6\n",
      "8\n"
     ]
    }
   ],
   "source": [
    "for n in filter(is_even,my_list):\n",
    "    print(n)"
   ]
  },
  {
   "cell_type": "code",
   "execution_count": 11,
   "id": "5b05fe8d",
   "metadata": {},
   "outputs": [
    {
     "data": {
      "text/plain": [
       "[1, 3, 5, 7, 9]"
      ]
     },
     "execution_count": 11,
     "metadata": {},
     "output_type": "execute_result"
    }
   ],
   "source": [
    "############################### lambda functions (anonymous functions)\n",
    "my_nums=[1,2,3,4,5,6,7,8,9]\n",
    "list(filter(lambda i:i%2!=0,my_nums))"
   ]
  },
  {
   "cell_type": "code",
   "execution_count": 14,
   "id": "eb1f0d5b",
   "metadata": {},
   "outputs": [
    {
     "data": {
      "text/plain": [
       "['A', 'B', 'C']"
      ]
     },
     "execution_count": 14,
     "metadata": {},
     "output_type": "execute_result"
    }
   ],
   "source": [
    "names = ['Alice', 'Bob', 'Charlie']\n",
    "list(map(lambda x:x[0],names))"
   ]
  },
  {
   "cell_type": "code",
   "execution_count": 23,
   "id": "75b1d498",
   "metadata": {},
   "outputs": [
    {
     "name": "stdout",
     "output_type": "stream",
     "text": [
      "in func: x is 20\n",
      "x is 20\n"
     ]
    }
   ],
   "source": [
    "############################### global\n",
    "\n",
    "x = 50\n",
    "\n",
    "def my_func(num):\n",
    "    global x   # use the global var x\n",
    "    x = 20\n",
    "    print(f'in func: x is {x}')\n",
    "\n",
    "my_func(55)\n",
    "print(f'x is {x}')"
   ]
  },
  {
   "cell_type": "code",
   "execution_count": 22,
   "id": "bd0d03d1",
   "metadata": {},
   "outputs": [
    {
     "name": "stdout",
     "output_type": "stream",
     "text": [
      "in func: x is 20\n"
     ]
    }
   ],
   "source": [
    "my_func(40)"
   ]
  },
  {
   "cell_type": "code",
   "execution_count": null,
   "id": "2dbbaf05",
   "metadata": {},
   "outputs": [],
   "source": []
  }
 ],
 "metadata": {
  "kernelspec": {
   "display_name": "Python 3 (ipykernel)",
   "language": "python",
   "name": "python3"
  },
  "language_info": {
   "codemirror_mode": {
    "name": "ipython",
    "version": 3
   },
   "file_extension": ".py",
   "mimetype": "text/x-python",
   "name": "python",
   "nbconvert_exporter": "python",
   "pygments_lexer": "ipython3",
   "version": "3.9.13"
  }
 },
 "nbformat": 4,
 "nbformat_minor": 5
}
